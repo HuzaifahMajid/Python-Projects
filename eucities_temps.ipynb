{
 "cells": [
  {
   "cell_type": "markdown",
   "id": "f662462f-8496-49be-8669-9e24d073f71a",
   "metadata": {
    "tags": []
   },
   "source": [
    "###### IMPORT ALL LIBRARIRES ################"
   ]
  },
  {
   "cell_type": "code",
   "execution_count": 2,
   "id": "10c7589c-40fa-40c9-9f54-eaad12af8306",
   "metadata": {},
   "outputs": [],
   "source": [
    "import math\n",
    "import csv\n",
    "import numpy as np\n",
    "import pandas as pd\n",
    "from pandas import Series\n",
    "from pandas import DataFrame\n",
    "from matplotlib import pyplot as plt\n",
    "import string"
   ]
  },
  {
   "cell_type": "markdown",
   "id": "06b15b24-8653-4e0d-8b97-071c1102b0ed",
   "metadata": {
    "jp-MarkdownHeadingCollapsed": true,
    "tags": [
     "1.1"
    ]
   },
   "source": [
    "#### Fill in the missing latitude and longitude values by calculating the average for that country. Round the average to 2 decimal places ####"
   ]
  },
  {
   "cell_type": "code",
   "execution_count": 3,
   "id": "ceb5cbd2-2e2e-4fb1-a9b4-18ea5c366810",
   "metadata": {},
   "outputs": [
    {
     "name": "stdout",
     "output_type": "stream",
     "text": [
      "          city         country  population   EU coastline  latitude  \\\n",
      "0      Elbasan         Albania        2.90   no       yes     41.12   \n",
      "1      Andorra         Andorra        0.07   no        no     42.50   \n",
      "2    Innsbruck         Austria        8.57  yes        no     47.85   \n",
      "3         Graz         Austria        8.57  yes        no     47.08   \n",
      "4         Linz         Austria        8.57  yes        no     48.32   \n",
      "..         ...             ...         ...  ...       ...       ...   \n",
      "208  Edinburgh  United Kingdom       65.11  yes       yes     55.95   \n",
      "209     Exeter  United Kingdom       65.11  yes       yes     50.70   \n",
      "210  Inverness  United Kingdom       65.11  yes       yes     53.55   \n",
      "211    Glasgow  United Kingdom       65.11  yes       yes     55.87   \n",
      "212    Swansea  United Kingdom       65.11  yes       yes     51.63   \n",
      "\n",
      "     longitude  temperature  \n",
      "0        20.08        15.18  \n",
      "1         1.52          NaN  \n",
      "2        11.41         4.54  \n",
      "3        14.02         6.91  \n",
      "4        14.29         6.79  \n",
      "..         ...          ...  \n",
      "208      -2.94          NaN  \n",
      "209      -3.53        10.14  \n",
      "210      -4.23         8.00  \n",
      "211      -4.25         8.60  \n",
      "212      -3.95         9.73  \n",
      "\n",
      "[213 rows x 8 columns]\n"
     ]
    }
   ],
   "source": [
    "file = open('EuCitiesTemperatures.csv')\n",
    "eu_cities = pd.read_csv(file)\n",
    "dfcountrylats = eu_cities[['country', 'latitude','longitude']]\n",
    "newdf = dfcountrylats.groupby('country',dropna = True).mean() #new DF which groups means by country\n",
    "diclat= dict(newdf.latitude) #dictionary for latitude menas and country\n",
    "diclong=dict(newdf.longitude) #dictionary for longitude menas and country\n",
    "\n",
    "#function to get new latitude if latitude value == nan\n",
    "changelat = lambda row: diclat.get(row['country']) if str(row['latitude']) == 'nan' else row['latitude'] \n",
    "eu_cities['latitude']= eu_cities.apply(changelat,axis=1) #APPLY LAMBDA FUNCTION TO EVERY ROW IN ORIGNAL DF\n",
    "eu_cities['latitude']= round(eu_cities.latitude,2) #ROUND TO 2 DEC PLACES\n",
    "\n",
    "#function to get new latitude if LONGITUDE value == nan\n",
    "changelong = lambda row: diclong.get(row['country']) if str(row['longitude'])== 'nan' else row['longitude']\n",
    "eu_cities['longitude']= eu_cities.apply(changelong,axis=1) #APPLY FUNCTION TO EVERY ROW\n",
    "eu_cities['longitude']= round(eu_cities.longitude,2) #ROUND TO 2 DEC PLACES\n",
    "print(eu_cities)"
   ]
  },
  {
   "cell_type": "markdown",
   "id": "e115c49d-f414-4253-8917-8e8da67ec99a",
   "metadata": {
    "jp-MarkdownHeadingCollapsed": true,
    "tags": [
     "1.2"
    ]
   },
   "source": [
    "#### Find out the subset of cities that lie between latitudes 40 to 60 (both inclusive) and longitudes 15 to 30 (both inclusive) ####"
   ]
  },
  {
   "cell_type": "code",
   "execution_count": 4,
   "id": "16391673-a124-425c-98f9-4969793d0da1",
   "metadata": {},
   "outputs": [
    {
     "name": "stdout",
     "output_type": "stream",
     "text": [
      "cities that lie between the given lat and long range are: \n",
      "\n"
     ]
    },
    {
     "data": {
      "text/html": [
       "<div>\n",
       "<style scoped>\n",
       "    .dataframe tbody tr th:only-of-type {\n",
       "        vertical-align: middle;\n",
       "    }\n",
       "\n",
       "    .dataframe tbody tr th {\n",
       "        vertical-align: top;\n",
       "    }\n",
       "\n",
       "    .dataframe thead th {\n",
       "        text-align: right;\n",
       "    }\n",
       "</style>\n",
       "<table border=\"1\" class=\"dataframe\">\n",
       "  <thead>\n",
       "    <tr style=\"text-align: right;\">\n",
       "      <th></th>\n",
       "      <th>city</th>\n",
       "      <th>country</th>\n",
       "      <th>population</th>\n",
       "      <th>EU</th>\n",
       "      <th>coastline</th>\n",
       "      <th>latitude</th>\n",
       "      <th>longitude</th>\n",
       "      <th>temperature</th>\n",
       "    </tr>\n",
       "  </thead>\n",
       "  <tbody>\n",
       "    <tr>\n",
       "      <th>0</th>\n",
       "      <td>Elbasan</td>\n",
       "      <td>Albania</td>\n",
       "      <td>2.90</td>\n",
       "      <td>no</td>\n",
       "      <td>yes</td>\n",
       "      <td>41.12</td>\n",
       "      <td>20.08</td>\n",
       "      <td>15.18</td>\n",
       "    </tr>\n",
       "    <tr>\n",
       "      <th>1</th>\n",
       "      <td>Vienna</td>\n",
       "      <td>Austria</td>\n",
       "      <td>8.57</td>\n",
       "      <td>yes</td>\n",
       "      <td>no</td>\n",
       "      <td>48.20</td>\n",
       "      <td>16.37</td>\n",
       "      <td>7.86</td>\n",
       "    </tr>\n",
       "    <tr>\n",
       "      <th>2</th>\n",
       "      <td>Minsk</td>\n",
       "      <td>Belarus</td>\n",
       "      <td>9.48</td>\n",
       "      <td>no</td>\n",
       "      <td>no</td>\n",
       "      <td>52.61</td>\n",
       "      <td>27.57</td>\n",
       "      <td>5.28</td>\n",
       "    </tr>\n",
       "    <tr>\n",
       "      <th>3</th>\n",
       "      <td>Orsha</td>\n",
       "      <td>Belarus</td>\n",
       "      <td>9.48</td>\n",
       "      <td>no</td>\n",
       "      <td>no</td>\n",
       "      <td>52.61</td>\n",
       "      <td>25.64</td>\n",
       "      <td>4.93</td>\n",
       "    </tr>\n",
       "    <tr>\n",
       "      <th>4</th>\n",
       "      <td>Pinsk</td>\n",
       "      <td>Belarus</td>\n",
       "      <td>9.48</td>\n",
       "      <td>no</td>\n",
       "      <td>no</td>\n",
       "      <td>52.61</td>\n",
       "      <td>25.64</td>\n",
       "      <td>6.42</td>\n",
       "    </tr>\n",
       "    <tr>\n",
       "      <th>...</th>\n",
       "      <td>...</td>\n",
       "      <td>...</td>\n",
       "      <td>...</td>\n",
       "      <td>...</td>\n",
       "      <td>...</td>\n",
       "      <td>...</td>\n",
       "      <td>...</td>\n",
       "      <td>...</td>\n",
       "    </tr>\n",
       "    <tr>\n",
       "      <th>58</th>\n",
       "      <td>Bursa</td>\n",
       "      <td>Turkey</td>\n",
       "      <td>79.62</td>\n",
       "      <td>no</td>\n",
       "      <td>yes</td>\n",
       "      <td>40.20</td>\n",
       "      <td>29.07</td>\n",
       "      <td>11.16</td>\n",
       "    </tr>\n",
       "    <tr>\n",
       "      <th>59</th>\n",
       "      <td>Edirne</td>\n",
       "      <td>Turkey</td>\n",
       "      <td>79.62</td>\n",
       "      <td>no</td>\n",
       "      <td>yes</td>\n",
       "      <td>41.67</td>\n",
       "      <td>26.57</td>\n",
       "      <td>NaN</td>\n",
       "    </tr>\n",
       "    <tr>\n",
       "      <th>60</th>\n",
       "      <td>Tekirdag</td>\n",
       "      <td>Turkey</td>\n",
       "      <td>79.62</td>\n",
       "      <td>no</td>\n",
       "      <td>yes</td>\n",
       "      <td>40.99</td>\n",
       "      <td>27.51</td>\n",
       "      <td>13.02</td>\n",
       "    </tr>\n",
       "    <tr>\n",
       "      <th>61</th>\n",
       "      <td>Chernivtsi</td>\n",
       "      <td>Ukraine</td>\n",
       "      <td>44.62</td>\n",
       "      <td>no</td>\n",
       "      <td>yes</td>\n",
       "      <td>48.71</td>\n",
       "      <td>25.92</td>\n",
       "      <td>7.06</td>\n",
       "    </tr>\n",
       "    <tr>\n",
       "      <th>62</th>\n",
       "      <td>Rivne</td>\n",
       "      <td>Ukraine</td>\n",
       "      <td>44.62</td>\n",
       "      <td>no</td>\n",
       "      <td>yes</td>\n",
       "      <td>48.71</td>\n",
       "      <td>26.25</td>\n",
       "      <td>6.76</td>\n",
       "    </tr>\n",
       "  </tbody>\n",
       "</table>\n",
       "<p>63 rows × 8 columns</p>\n",
       "</div>"
      ],
      "text/plain": [
       "          city  country  population   EU coastline  latitude  longitude  \\\n",
       "0      Elbasan  Albania        2.90   no       yes     41.12      20.08   \n",
       "1       Vienna  Austria        8.57  yes        no     48.20      16.37   \n",
       "2        Minsk  Belarus        9.48   no        no     52.61      27.57   \n",
       "3        Orsha  Belarus        9.48   no        no     52.61      25.64   \n",
       "4        Pinsk  Belarus        9.48   no        no     52.61      25.64   \n",
       "..         ...      ...         ...  ...       ...       ...        ...   \n",
       "58       Bursa   Turkey       79.62   no       yes     40.20      29.07   \n",
       "59      Edirne   Turkey       79.62   no       yes     41.67      26.57   \n",
       "60    Tekirdag   Turkey       79.62   no       yes     40.99      27.51   \n",
       "61  Chernivtsi  Ukraine       44.62   no       yes     48.71      25.92   \n",
       "62       Rivne  Ukraine       44.62   no       yes     48.71      26.25   \n",
       "\n",
       "    temperature  \n",
       "0         15.18  \n",
       "1          7.86  \n",
       "2          5.28  \n",
       "3          4.93  \n",
       "4          6.42  \n",
       "..          ...  \n",
       "58        11.16  \n",
       "59          NaN  \n",
       "60        13.02  \n",
       "61         7.06  \n",
       "62         6.76  \n",
       "\n",
       "[63 rows x 8 columns]"
      ]
     },
     "execution_count": 4,
     "metadata": {},
     "output_type": "execute_result"
    }
   ],
   "source": [
    "#function to get city of entry that has lat and long in specified range\n",
    "latinrangecheck = lambda row: row if (row['latitude'] >= 40 and row['latitude'] <= 60) and ((row['longitude']>= 15) and (row['longitude']<= 30)) else np.nan\n",
    "#eu_cities['City in Range?'] = eu_cities.apply(latinrangecheck,axis=1) #put the city in given range into new column\n",
    "euupdated = pd.DataFrame(data = eu_cities.apply(latinrangecheck,axis=1))\n",
    "euupdated.dropna(axis=0,inplace = True,subset= 'city')\n",
    "# subframe = pd.DataFrame(data=eu_cities,columns =['country','City in Range?']) #make new df that has country and which city were in range, will have nan\n",
    "# new = subframe.dropna(how = 'any') #new df without the nan values of city() menaing those were not in given range\n",
    "print('cities that lie between the given lat and long range are: \\n')\n",
    "# print(new['City in Range?'].reset_index(drop = True))  \n",
    "euupdated.reset_index(drop=True,inplace=True)\n",
    "euupdated"
   ]
  },
  {
   "cell_type": "markdown",
   "id": "51e04db2-96c6-4036-bf08-91d48b287f8c",
   "metadata": {
    "jp-MarkdownHeadingCollapsed": true,
    "tags": [
     "1.2"
    ]
   },
   "source": [
    " #### Find out which countries have the maximum number of cities in this geographical band. (More than one country could have the maximum number of values.) ####"
   ]
  },
  {
   "cell_type": "code",
   "execution_count": 5,
   "id": "3b88966a-7221-4dc8-82f6-03343dd78160",
   "metadata": {},
   "outputs": [
    {
     "name": "stdout",
     "output_type": "stream",
     "text": [
      "countrie(s) with most cities in the range of lat and long are/is:\n",
      "0     Poland\n",
      "1    Romania\n",
      "Name: country, dtype: object\n"
     ]
    }
   ],
   "source": [
    "\n",
    "#print(new)\n",
    "print('countrie(s) with most cities in the range of lat and long are/is:')\n",
    "MostOccurCountryByCity= pd.DataFrame(euupdated['country'].mode())\n",
    "print(MostOccurCountryByCity.country)\n",
    "\n",
    "#eu_cities.drop(columns='City in Range?',inplace = True)  \n"
   ]
  },
  {
   "cell_type": "markdown",
   "id": "d0bb1979-b8ac-4c05-8991-b995daa873b5",
   "metadata": {
    "jp-MarkdownHeadingCollapsed": true,
    "tags": [
     "1.3"
    ]
   },
   "source": [
    "#### Fill in the missing temperature values by the average temperature value of the similar region type. A region type would be a combinaton of whether it is in EU (yes/no) and whether it has a coastline (yes/no) ###"
   ]
  },
  {
   "cell_type": "code",
   "execution_count": 6,
   "id": "f1d39518-d4ed-4509-b466-2ba2494f7756",
   "metadata": {},
   "outputs": [
    {
     "data": {
      "text/html": [
       "<div>\n",
       "<style scoped>\n",
       "    .dataframe tbody tr th:only-of-type {\n",
       "        vertical-align: middle;\n",
       "    }\n",
       "\n",
       "    .dataframe tbody tr th {\n",
       "        vertical-align: top;\n",
       "    }\n",
       "\n",
       "    .dataframe thead th {\n",
       "        text-align: right;\n",
       "    }\n",
       "</style>\n",
       "<table border=\"1\" class=\"dataframe\">\n",
       "  <thead>\n",
       "    <tr style=\"text-align: right;\">\n",
       "      <th></th>\n",
       "      <th>city</th>\n",
       "      <th>country</th>\n",
       "      <th>population</th>\n",
       "      <th>EU</th>\n",
       "      <th>coastline</th>\n",
       "      <th>latitude</th>\n",
       "      <th>longitude</th>\n",
       "      <th>temperature</th>\n",
       "    </tr>\n",
       "  </thead>\n",
       "  <tbody>\n",
       "    <tr>\n",
       "      <th>0</th>\n",
       "      <td>Elbasan</td>\n",
       "      <td>Albania</td>\n",
       "      <td>2.90</td>\n",
       "      <td>no</td>\n",
       "      <td>yes</td>\n",
       "      <td>41.12</td>\n",
       "      <td>20.08</td>\n",
       "      <td>15.18</td>\n",
       "    </tr>\n",
       "    <tr>\n",
       "      <th>1</th>\n",
       "      <td>Vienna</td>\n",
       "      <td>Austria</td>\n",
       "      <td>8.57</td>\n",
       "      <td>yes</td>\n",
       "      <td>no</td>\n",
       "      <td>48.20</td>\n",
       "      <td>16.37</td>\n",
       "      <td>7.86</td>\n",
       "    </tr>\n",
       "    <tr>\n",
       "      <th>2</th>\n",
       "      <td>Minsk</td>\n",
       "      <td>Belarus</td>\n",
       "      <td>9.48</td>\n",
       "      <td>no</td>\n",
       "      <td>no</td>\n",
       "      <td>52.61</td>\n",
       "      <td>27.57</td>\n",
       "      <td>5.28</td>\n",
       "    </tr>\n",
       "    <tr>\n",
       "      <th>3</th>\n",
       "      <td>Orsha</td>\n",
       "      <td>Belarus</td>\n",
       "      <td>9.48</td>\n",
       "      <td>no</td>\n",
       "      <td>no</td>\n",
       "      <td>52.61</td>\n",
       "      <td>25.64</td>\n",
       "      <td>4.93</td>\n",
       "    </tr>\n",
       "    <tr>\n",
       "      <th>4</th>\n",
       "      <td>Pinsk</td>\n",
       "      <td>Belarus</td>\n",
       "      <td>9.48</td>\n",
       "      <td>no</td>\n",
       "      <td>no</td>\n",
       "      <td>52.61</td>\n",
       "      <td>25.64</td>\n",
       "      <td>6.42</td>\n",
       "    </tr>\n",
       "    <tr>\n",
       "      <th>...</th>\n",
       "      <td>...</td>\n",
       "      <td>...</td>\n",
       "      <td>...</td>\n",
       "      <td>...</td>\n",
       "      <td>...</td>\n",
       "      <td>...</td>\n",
       "      <td>...</td>\n",
       "      <td>...</td>\n",
       "    </tr>\n",
       "    <tr>\n",
       "      <th>58</th>\n",
       "      <td>Bursa</td>\n",
       "      <td>Turkey</td>\n",
       "      <td>79.62</td>\n",
       "      <td>no</td>\n",
       "      <td>yes</td>\n",
       "      <td>40.20</td>\n",
       "      <td>29.07</td>\n",
       "      <td>11.16</td>\n",
       "    </tr>\n",
       "    <tr>\n",
       "      <th>59</th>\n",
       "      <td>Edirne</td>\n",
       "      <td>Turkey</td>\n",
       "      <td>79.62</td>\n",
       "      <td>no</td>\n",
       "      <td>yes</td>\n",
       "      <td>41.67</td>\n",
       "      <td>26.57</td>\n",
       "      <td>10.00</td>\n",
       "    </tr>\n",
       "    <tr>\n",
       "      <th>60</th>\n",
       "      <td>Tekirdag</td>\n",
       "      <td>Turkey</td>\n",
       "      <td>79.62</td>\n",
       "      <td>no</td>\n",
       "      <td>yes</td>\n",
       "      <td>40.99</td>\n",
       "      <td>27.51</td>\n",
       "      <td>13.02</td>\n",
       "    </tr>\n",
       "    <tr>\n",
       "      <th>61</th>\n",
       "      <td>Chernivtsi</td>\n",
       "      <td>Ukraine</td>\n",
       "      <td>44.62</td>\n",
       "      <td>no</td>\n",
       "      <td>yes</td>\n",
       "      <td>48.71</td>\n",
       "      <td>25.92</td>\n",
       "      <td>7.06</td>\n",
       "    </tr>\n",
       "    <tr>\n",
       "      <th>62</th>\n",
       "      <td>Rivne</td>\n",
       "      <td>Ukraine</td>\n",
       "      <td>44.62</td>\n",
       "      <td>no</td>\n",
       "      <td>yes</td>\n",
       "      <td>48.71</td>\n",
       "      <td>26.25</td>\n",
       "      <td>6.76</td>\n",
       "    </tr>\n",
       "  </tbody>\n",
       "</table>\n",
       "<p>63 rows × 8 columns</p>\n",
       "</div>"
      ],
      "text/plain": [
       "          city  country  population   EU coastline  latitude  longitude  \\\n",
       "0      Elbasan  Albania        2.90   no       yes     41.12      20.08   \n",
       "1       Vienna  Austria        8.57  yes        no     48.20      16.37   \n",
       "2        Minsk  Belarus        9.48   no        no     52.61      27.57   \n",
       "3        Orsha  Belarus        9.48   no        no     52.61      25.64   \n",
       "4        Pinsk  Belarus        9.48   no        no     52.61      25.64   \n",
       "..         ...      ...         ...  ...       ...       ...        ...   \n",
       "58       Bursa   Turkey       79.62   no       yes     40.20      29.07   \n",
       "59      Edirne   Turkey       79.62   no       yes     41.67      26.57   \n",
       "60    Tekirdag   Turkey       79.62   no       yes     40.99      27.51   \n",
       "61  Chernivtsi  Ukraine       44.62   no       yes     48.71      25.92   \n",
       "62       Rivne  Ukraine       44.62   no       yes     48.71      26.25   \n",
       "\n",
       "    temperature  \n",
       "0         15.18  \n",
       "1          7.86  \n",
       "2          5.28  \n",
       "3          4.93  \n",
       "4          6.42  \n",
       "..          ...  \n",
       "58        11.16  \n",
       "59        10.00  \n",
       "60        13.02  \n",
       "61         7.06  \n",
       "62         6.76  \n",
       "\n",
       "[63 rows x 8 columns]"
      ]
     },
     "execution_count": 6,
     "metadata": {},
     "output_type": "execute_result"
    }
   ],
   "source": [
    "dfregiontemp = pd.DataFrame(data = euupdated, columns = ['EU','coastline','temperature'])\n",
    "dfregiontemp=dfregiontemp.dropna()\n",
    "\n",
    "dicofcombos={'noyes': [],'yesno':[], 'yesyes':[],'nono':[]}\n",
    "\n",
    "def tempdicpercombo(row):\n",
    "    row['join'] = row['EU']+row['coastline']\n",
    "    dicofcombos[row['join']].append(row['temperature'])\n",
    "    return row\n",
    "\n",
    "dfregiontemp.apply(tempdicpercombo,axis=1)\n",
    "combosforlater = dicofcombos.copy()\n",
    "for key,listofvlas in dicofcombos.items():\n",
    "    dicofcombos[key] = int(sum(dicofcombos.get(key))/len((dicofcombos.get(key))))\n",
    "\n",
    "def filltempnan(row):\n",
    "    EU = row['EU']  \n",
    "    cl =row['coastline'] \n",
    "    tem = row['temperature'] \n",
    "    \n",
    "    if str(tem)=='nan' :\n",
    "        row['temperature'] = dicofcombos.get(str(EU+cl))\n",
    "    return row\n",
    "euupdated = euupdated.apply(filltempnan,axis=1)\n",
    "euupdated"
   ]
  },
  {
   "cell_type": "markdown",
   "id": "5ac3f7cf-b15d-4dac-bac1-316b2097d63b",
   "metadata": {
    "jp-MarkdownHeadingCollapsed": true,
    "tags": [
     "2.1"
    ]
   },
   "source": [
    "#### Plot a bar chart for the number of cities belonging to each of the regions described in Preprocessing/Analysis #3 above ####\n"
   ]
  },
  {
   "cell_type": "code",
   "execution_count": 7,
   "id": "cd2da1d3-546e-44a5-b15a-1b583ecefed7",
   "metadata": {
    "tags": []
   },
   "outputs": [
    {
     "name": "stdout",
     "output_type": "stream",
     "text": [
      "<class 'matplotlib.container.BarContainer'>\n"
     ]
    },
    {
     "data": {
      "text/plain": [
       "Text(0.5, 1.0, 'Cities in Each Region')"
      ]
     },
     "execution_count": 7,
     "metadata": {},
     "output_type": "execute_result"
    },
    {
     "data": {
      "image/png": "[encoded data removed]",
      "text/plain": [
       "<Figure size 504x288 with 1 Axes>"
      ]
     },
     "metadata": {
      "needs_background": "light"
     },
     "output_type": "display_data"
    }
   ],
   "source": [
    "regiontotal = pd.DataFrame(data = euupdated, columns = ['city','EU','coastline'])\n",
    "combotocity = {'noyes': 0,'yesno':0, 'yesyes':0,'nono':0}\n",
    "\n",
    "def combocitycount(row):\n",
    "    #combotocity[row['EU']+row['coastline']] = combotocity.get(row['EU']+row['coastline']) + 1\n",
    "    combotocity[row[1]+row[2]] = combotocity.get((row[1]+row[2]))+1\n",
    "    return row\n",
    "regiontotal.apply(combocitycount,axis = 1)\n",
    "\n",
    "regiontotal=pd.Series(data = combotocity)\n",
    "propername = ['Eu = no & costline = yes','Eu = yes & costline = no','Eu = yes & costline = yes','Eu = no & costline = no' ]\n",
    "# orignal = ['noyes','yesno','yesyes','nono']\n",
    "regiontype = list(regiontotal.index)\n",
    "numofcities = list(regiontotal.values)\n",
    "c = ['red','blue','yellow','green']\n",
    "regionnums = ['Region 1','Region 2','Region 3','Region 4']\n",
    "\n",
    "plt.figure(figsize=(7, 4))\n",
    "x = plt.bar(regionnums,numofcities,color=c,width = 1)\n",
    "print(type(x))\n",
    "plt.bar_label(x,labels = x.datavalues)\n",
    "plt.legend(x,propername, loc = 'upper left')\n",
    "plt.xlabel('Region',fontsize = 12)\n",
    "plt.ylabel('Number of Cities',fontsize = 12)\n",
    "plt.title('Cities in Each Region',fontsize = 15)"
   ]
  },
  {
   "cell_type": "markdown",
   "id": "11c2fec8-c0bf-477a-95eb-35892fa51907",
   "metadata": {
    "jp-MarkdownHeadingCollapsed": true,
    "tags": [
     "2.2"
    ]
   },
   "source": [
    "#### Plot a scatter plot of latitude (y-axis) v/s longitude (x-axis) values to get a map-like visual of the cities under consideration. All the cities in the same country should have the same color ####"
   ]
  },
  {
   "cell_type": "code",
   "execution_count": 8,
   "id": "60b6b017-09cf-439b-af65-2bac8aee57fe",
   "metadata": {},
   "outputs": [
    {
     "data": {
      "text/plain": [
       "Text(0.5, 1.0, 'Longitude vs Latitude')"
      ]
     },
     "execution_count": 8,
     "metadata": {},
     "output_type": "execute_result"
    },
    {
     "data": {
      "image/png": "[encoded data removed]",
      "text/plain": [
       "<Figure size 1080x432 with 1 Axes>"
      ]
     },
     "metadata": {
      "needs_background": "light"
     },
     "output_type": "display_data"
    }
   ],
   "source": [
    "euupdated\n",
    "import random\n",
    "latitudes = list(euupdated.latitude)\n",
    "longitudes = list(euupdated.longitude)\n",
    "countries = list(set(euupdated.country))\n",
    "\n",
    "#rand_colours = [random.choice(color) for i in range(len(latitudes))]\n",
    "get_colors = lambda n: list(map(lambda i: \"#\" + \"%06x\" % random.randint(0, 0xFFFFFF),range(n)))\n",
    "random_colors = get_colors(len(countries))\n",
    "#function just to double check each color is different\n",
    "def colornumcheck(random_colors):\n",
    "    if len(set(random_colors)) != len(countries):\n",
    "        for x in range(len(set(random_colors)),len(countries)):\n",
    "            random_colors.append(get_colors(x))\n",
    "    return random_colors     \n",
    "colornumcheck(random_colors)\n",
    "colorsdic = {countries[i]: random_colors[i] for i in range(0,len(countries))}\n",
    "plt.figure(figsize = (15,6))\n",
    "plt.scatter(x=euupdated.longitude,y=euupdated.latitude, s= 25, c= euupdated.country.map(colorsdic))\n",
    "plt.xlabel('Longitude',fontsize = 16)\n",
    "plt.ylabel('Latitude',fontsize = 16)\n",
    "plt.title('Longitude vs Latitude',fontsize = 21)"
   ]
  },
  {
   "cell_type": "markdown",
   "id": "e9682d64-3a90-43f7-8669-41a5cacb7ebe",
   "metadata": {
    "jp-MarkdownHeadingCollapsed": true,
    "tags": [
     "2.3"
    ]
   },
   "source": [
    "#### The population column contains values unique to each country. So two cities of the same country will show the same population value. Plot a histogram of the number of countries belonging to each population group: split the population values into 5 bins (groups). ####"
   ]
  },
  {
   "cell_type": "code",
   "execution_count": 9,
   "id": "7d11d825-0334-49dd-aa2e-3874ba27fffb",
   "metadata": {},
   "outputs": [
    {
     "data": {
      "text/plain": [
       "Text(0, 0.5, 'Number of Countries')"
      ]
     },
     "execution_count": 9,
     "metadata": {},
     "output_type": "execute_result"
    },
    {
     "data": {
      "image/png": "[encoded data removed]",
      "text/plain": [
       "<Figure size 432x288 with 1 Axes>"
      ]
     },
     "metadata": {
      "needs_background": "light"
     },
     "output_type": "display_data"
    }
   ],
   "source": [
    "histogram_data = pd.DataFrame(data = euupdated,columns = euupdated.columns[:3])\n",
    "histogram_data.hist(column=['population'],bins = 5)\n",
    "plt.xlabel('Population Range',fontsize = 10)\n",
    "plt.ylabel('Number of Countries')"
   ]
  },
  {
   "cell_type": "markdown",
   "id": "2e5bf902-faea-4297-9ef0-cf3663e8a842",
   "metadata": {
    "jp-MarkdownHeadingCollapsed": true,
    "tags": [
     "2.4"
    ]
   },
   "source": [
    "#### Plot subplots (2, 2), with proper titles, one each for the region types described in Preprocessing/Analysis #3 above ####"
   ]
  },
  {
   "cell_type": "code",
   "execution_count": 89,
   "id": "71cb3796-531f-4a7e-a4d5-b8e7cd2ce6da",
   "metadata": {},
   "outputs": [
    {
     "data": {
      "text/plain": [
       "Text(0.5, 1.0, 'non-EU Coastal')"
      ]
     },
     "execution_count": 89,
     "metadata": {},
     "output_type": "execute_result"
    },
    {
     "data": {
      "image/png": "[encoded data removed]",
      "text/plain": [
       "<Figure size 432x288 with 4 Axes>"
      ]
     },
     "metadata": {
      "needs_background": "light"
     },
     "output_type": "display_data"
    }
   ],
   "source": [
    "fig , axes = plt.subplots(2,2)\n",
    "fig.tight_layout(pad = 2)\n",
    "#adding color column to each row based on temp\n",
    "euupdated.loc[euupdated['temperature']>10,'color'] = 'red'\n",
    "euupdated.loc[euupdated['temperature']<6,'color'] = 'blue'\n",
    "euupdated.loc[(euupdated['temperature']>=6) &(euupdated['temperature']<=10) ,'color'] = 'orange'\n",
    "\n",
    "#region 1\n",
    "region1 = pd.DataFrame(data = euupdated)\n",
    "region1 = region1[(region1['EU']== 'yes')  & (region1['coastline']== 'yes')]\n",
    "region1 = region1.get(['latitude','longitude','color'])\n",
    "region1 = axes[0][0].scatter(x= region1.latitude,y =region1.longitude,c =region1.color )\n",
    "axes[0][0].set_title('EU Coastal')\n",
    "\n",
    "#region 2\n",
    "region2 = pd.DataFrame(data = euupdated)\n",
    "region2 = region2[(region2['EU']== 'no')  & (region2['coastline']== 'no')]\n",
    "region2 = region2.get(['latitude','longitude','color'])\n",
    "axes[0][1].scatter(x= region2.latitude,y =region2.longitude,c =region2.color )\n",
    "axes[0][1].set_title('non-EU non-Coastal')\n",
    "\n",
    "#region 3\n",
    "region3 = pd.DataFrame(data = euupdated)\n",
    "region3 = region3[(region3['EU']== 'yes')  & (region3['coastline']== 'no')]\n",
    "region3 = region3.get(['latitude','longitude','color'])\n",
    "axes[1][0].scatter(x= region3.latitude,y =region3.longitude,c =region3.color)\n",
    "axes[1][0].set_title('EU non-Coastal')\n",
    "\n",
    "#region 4\n",
    "region4 = pd.DataFrame(data = euupdated)\n",
    "region4 = region4[(region4['EU']== 'no')  & (region4['coastline']== 'yes')]\n",
    "region4 = region4.get(['latitude','longitude','color'])\n",
    "axes[1][1].scatter(x= region4.latitude,y =region4.longitude,c =region4.color )\n",
    "axes[1][1].set_title('non-EU Coastal')\n",
    "\n",
    "#all of these cities are in \n"
   ]
  }
 ],
 "metadata": {
  "kernelspec": {
   "display_name": "Python 3 (ipykernel)",
   "language": "python",
   "name": "python3"
  },
  "language_info": {
   "codemirror_mode": {
    "name": "ipython",
    "version": 3
   },
   "file_extension": ".py",
   "mimetype": "text/x-python",
   "name": "python",
   "nbconvert_exporter": "python",
   "pygments_lexer": "ipython3",
   "version": "3.9.7"
  }
 },
 "nbformat": 4,
 "nbformat_minor": 5
}
